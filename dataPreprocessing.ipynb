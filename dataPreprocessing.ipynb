{
  "cells": [
    {
      "cell_type": "code",
      "execution_count": 3,
      "metadata": {
        "colab": {
          "base_uri": "https://localhost:8080/",
          "height": 71
        },
        "id": "3ggzbuQweDge",
        "outputId": "1867bea6-3146-47d5-a07f-cb31ee65d689"
      },
      "outputs": [
        {
          "output_type": "display_data",
          "data": {
            "text/plain": [
              "<IPython.core.display.HTML object>"
            ],
            "text/html": [
              "\n",
              "     <input type=\"file\" id=\"files-3e686dce-177a-4ceb-bdfd-d430612d09d0\" name=\"files[]\" multiple disabled\n",
              "        style=\"border:none\" />\n",
              "     <output id=\"result-3e686dce-177a-4ceb-bdfd-d430612d09d0\">\n",
              "      Upload widget is only available when the cell has been executed in the\n",
              "      current browser session. Please rerun this cell to enable.\n",
              "      </output>\n",
              "      <script>// Copyright 2017 Google LLC\n",
              "//\n",
              "// Licensed under the Apache License, Version 2.0 (the \"License\");\n",
              "// you may not use this file except in compliance with the License.\n",
              "// You may obtain a copy of the License at\n",
              "//\n",
              "//      http://www.apache.org/licenses/LICENSE-2.0\n",
              "//\n",
              "// Unless required by applicable law or agreed to in writing, software\n",
              "// distributed under the License is distributed on an \"AS IS\" BASIS,\n",
              "// WITHOUT WARRANTIES OR CONDITIONS OF ANY KIND, either express or implied.\n",
              "// See the License for the specific language governing permissions and\n",
              "// limitations under the License.\n",
              "\n",
              "/**\n",
              " * @fileoverview Helpers for google.colab Python module.\n",
              " */\n",
              "(function(scope) {\n",
              "function span(text, styleAttributes = {}) {\n",
              "  const element = document.createElement('span');\n",
              "  element.textContent = text;\n",
              "  for (const key of Object.keys(styleAttributes)) {\n",
              "    element.style[key] = styleAttributes[key];\n",
              "  }\n",
              "  return element;\n",
              "}\n",
              "\n",
              "// Max number of bytes which will be uploaded at a time.\n",
              "const MAX_PAYLOAD_SIZE = 100 * 1024;\n",
              "\n",
              "function _uploadFiles(inputId, outputId) {\n",
              "  const steps = uploadFilesStep(inputId, outputId);\n",
              "  const outputElement = document.getElementById(outputId);\n",
              "  // Cache steps on the outputElement to make it available for the next call\n",
              "  // to uploadFilesContinue from Python.\n",
              "  outputElement.steps = steps;\n",
              "\n",
              "  return _uploadFilesContinue(outputId);\n",
              "}\n",
              "\n",
              "// This is roughly an async generator (not supported in the browser yet),\n",
              "// where there are multiple asynchronous steps and the Python side is going\n",
              "// to poll for completion of each step.\n",
              "// This uses a Promise to block the python side on completion of each step,\n",
              "// then passes the result of the previous step as the input to the next step.\n",
              "function _uploadFilesContinue(outputId) {\n",
              "  const outputElement = document.getElementById(outputId);\n",
              "  const steps = outputElement.steps;\n",
              "\n",
              "  const next = steps.next(outputElement.lastPromiseValue);\n",
              "  return Promise.resolve(next.value.promise).then((value) => {\n",
              "    // Cache the last promise value to make it available to the next\n",
              "    // step of the generator.\n",
              "    outputElement.lastPromiseValue = value;\n",
              "    return next.value.response;\n",
              "  });\n",
              "}\n",
              "\n",
              "/**\n",
              " * Generator function which is called between each async step of the upload\n",
              " * process.\n",
              " * @param {string} inputId Element ID of the input file picker element.\n",
              " * @param {string} outputId Element ID of the output display.\n",
              " * @return {!Iterable<!Object>} Iterable of next steps.\n",
              " */\n",
              "function* uploadFilesStep(inputId, outputId) {\n",
              "  const inputElement = document.getElementById(inputId);\n",
              "  inputElement.disabled = false;\n",
              "\n",
              "  const outputElement = document.getElementById(outputId);\n",
              "  outputElement.innerHTML = '';\n",
              "\n",
              "  const pickedPromise = new Promise((resolve) => {\n",
              "    inputElement.addEventListener('change', (e) => {\n",
              "      resolve(e.target.files);\n",
              "    });\n",
              "  });\n",
              "\n",
              "  const cancel = document.createElement('button');\n",
              "  inputElement.parentElement.appendChild(cancel);\n",
              "  cancel.textContent = 'Cancel upload';\n",
              "  const cancelPromise = new Promise((resolve) => {\n",
              "    cancel.onclick = () => {\n",
              "      resolve(null);\n",
              "    };\n",
              "  });\n",
              "\n",
              "  // Wait for the user to pick the files.\n",
              "  const files = yield {\n",
              "    promise: Promise.race([pickedPromise, cancelPromise]),\n",
              "    response: {\n",
              "      action: 'starting',\n",
              "    }\n",
              "  };\n",
              "\n",
              "  cancel.remove();\n",
              "\n",
              "  // Disable the input element since further picks are not allowed.\n",
              "  inputElement.disabled = true;\n",
              "\n",
              "  if (!files) {\n",
              "    return {\n",
              "      response: {\n",
              "        action: 'complete',\n",
              "      }\n",
              "    };\n",
              "  }\n",
              "\n",
              "  for (const file of files) {\n",
              "    const li = document.createElement('li');\n",
              "    li.append(span(file.name, {fontWeight: 'bold'}));\n",
              "    li.append(span(\n",
              "        `(${file.type || 'n/a'}) - ${file.size} bytes, ` +\n",
              "        `last modified: ${\n",
              "            file.lastModifiedDate ? file.lastModifiedDate.toLocaleDateString() :\n",
              "                                    'n/a'} - `));\n",
              "    const percent = span('0% done');\n",
              "    li.appendChild(percent);\n",
              "\n",
              "    outputElement.appendChild(li);\n",
              "\n",
              "    const fileDataPromise = new Promise((resolve) => {\n",
              "      const reader = new FileReader();\n",
              "      reader.onload = (e) => {\n",
              "        resolve(e.target.result);\n",
              "      };\n",
              "      reader.readAsArrayBuffer(file);\n",
              "    });\n",
              "    // Wait for the data to be ready.\n",
              "    let fileData = yield {\n",
              "      promise: fileDataPromise,\n",
              "      response: {\n",
              "        action: 'continue',\n",
              "      }\n",
              "    };\n",
              "\n",
              "    // Use a chunked sending to avoid message size limits. See b/62115660.\n",
              "    let position = 0;\n",
              "    do {\n",
              "      const length = Math.min(fileData.byteLength - position, MAX_PAYLOAD_SIZE);\n",
              "      const chunk = new Uint8Array(fileData, position, length);\n",
              "      position += length;\n",
              "\n",
              "      const base64 = btoa(String.fromCharCode.apply(null, chunk));\n",
              "      yield {\n",
              "        response: {\n",
              "          action: 'append',\n",
              "          file: file.name,\n",
              "          data: base64,\n",
              "        },\n",
              "      };\n",
              "\n",
              "      let percentDone = fileData.byteLength === 0 ?\n",
              "          100 :\n",
              "          Math.round((position / fileData.byteLength) * 100);\n",
              "      percent.textContent = `${percentDone}% done`;\n",
              "\n",
              "    } while (position < fileData.byteLength);\n",
              "  }\n",
              "\n",
              "  // All done.\n",
              "  yield {\n",
              "    response: {\n",
              "      action: 'complete',\n",
              "    }\n",
              "  };\n",
              "}\n",
              "\n",
              "scope.google = scope.google || {};\n",
              "scope.google.colab = scope.google.colab || {};\n",
              "scope.google.colab._files = {\n",
              "  _uploadFiles,\n",
              "  _uploadFilesContinue,\n",
              "};\n",
              "})(self);\n",
              "</script> "
            ]
          },
          "metadata": {}
        },
        {
          "output_type": "stream",
          "name": "stdout",
          "text": [
            "Saving veri.csv to veri.csv\n"
          ]
        }
      ],
      "source": [
        "from google.colab import files\n",
        "uploaded = files.upload()"
      ]
    },
    {
      "cell_type": "code",
      "execution_count": 4,
      "metadata": {
        "id": "YtO_Oi3Rfyk8"
      },
      "outputs": [],
      "source": [
        "import pandas as pd\n",
        "import numpy as np\n",
        "import matplotlib.pyplot as pyplot\n",
        "import seaborn as sns"
      ]
    },
    {
      "cell_type": "code",
      "execution_count": 5,
      "metadata": {
        "colab": {
          "base_uri": "https://localhost:8080/"
        },
        "id": "u2G8d6otn1uL",
        "outputId": "91250e11-5f6e-4dbb-f0a0-2c8fde496691"
      },
      "outputs": [
        {
          "output_type": "stream",
          "name": "stdout",
          "text": [
            "        Unnamed: 0 Invoice StockCode                          Description  \\\n",
            "0                0  536365    85123A   WHITE HANGING HEART T-LIGHT HOLDER   \n",
            "1                1  536365     71053                  WHITE METAL LANTERN   \n",
            "2                2  536365    84406B       CREAM CUPID HEARTS COAT HANGER   \n",
            "3                3  536365    84029G  KNITTED UNION FLAG HOT WATER BOTTLE   \n",
            "4                4  536365    84029E       RED WOOLLY HOTTIE WHITE HEART.   \n",
            "...            ...     ...       ...                                  ...   \n",
            "541905      541905  581587     22899         CHILDREN'S APRON DOLLY GIRL    \n",
            "541906      541906  581587     23254        CHILDRENS CUTLERY DOLLY GIRL    \n",
            "541907      541907  581587     23255      CHILDRENS CUTLERY CIRCUS PARADE   \n",
            "541908      541908  581587     22138        BAKING SET 9 PIECE RETROSPOT    \n",
            "541909      541909  581587      POST                              POSTAGE   \n",
            "\n",
            "        Quantity          InvoiceDate  Price  Customer ID         Country  \n",
            "0              6  2010-12-01 08:26:00   2.55      17850.0  United Kingdom  \n",
            "1              6  2010-12-01 08:26:00   3.39      17850.0  United Kingdom  \n",
            "2              8  2010-12-01 08:26:00   2.75      17850.0  United Kingdom  \n",
            "3              6  2010-12-01 08:26:00   3.39      17850.0  United Kingdom  \n",
            "4              6  2010-12-01 08:26:00   3.39      17850.0  United Kingdom  \n",
            "...          ...                  ...    ...          ...             ...  \n",
            "541905         6  2011-12-09 12:50:00   2.10      12680.0          France  \n",
            "541906         4  2011-12-09 12:50:00   4.15      12680.0          France  \n",
            "541907         4  2011-12-09 12:50:00   4.15      12680.0          France  \n",
            "541908         3  2011-12-09 12:50:00   4.95      12680.0          France  \n",
            "541909         1  2011-12-09 12:50:00  18.00      12680.0          France  \n",
            "\n",
            "[541910 rows x 9 columns]\n"
          ]
        }
      ],
      "source": [
        "hamveri=pd.read_csv(\"veri.csv\")\n",
        "print(hamveri)\n",
        "veri=hamveri.copy()"
      ]
    },
    {
      "cell_type": "code",
      "execution_count": 6,
      "metadata": {
        "colab": {
          "base_uri": "https://localhost:8080/"
        },
        "id": "LX7-OA9rCuzH",
        "outputId": "73ec51e5-530a-4565-b79f-ad5a5dfd77ac"
      },
      "outputs": [
        {
          "output_type": "stream",
          "name": "stdout",
          "text": [
            "  Invoice StockCode                          Description  Quantity  \\\n",
            "0  536365    85123A   WHITE HANGING HEART T-LIGHT HOLDER         6   \n",
            "1  536365     71053                  WHITE METAL LANTERN         6   \n",
            "2  536365    84406B       CREAM CUPID HEARTS COAT HANGER         8   \n",
            "3  536365    84029G  KNITTED UNION FLAG HOT WATER BOTTLE         6   \n",
            "4  536365    84029E       RED WOOLLY HOTTIE WHITE HEART.         6   \n",
            "\n",
            "           InvoiceDate  Price  Customer ID         Country  \n",
            "0  2010-12-01 08:26:00   2.55      17850.0  United Kingdom  \n",
            "1  2010-12-01 08:26:00   3.39      17850.0  United Kingdom  \n",
            "2  2010-12-01 08:26:00   2.75      17850.0  United Kingdom  \n",
            "3  2010-12-01 08:26:00   3.39      17850.0  United Kingdom  \n",
            "4  2010-12-01 08:26:00   3.39      17850.0  United Kingdom  \n"
          ]
        }
      ],
      "source": [
        "veri.drop(veri.columns[[0]],axis=1,inplace=True)\n",
        "print(veri.head())"
      ]
    },
    {
      "cell_type": "code",
      "execution_count": 7,
      "metadata": {
        "colab": {
          "base_uri": "https://localhost:8080/"
        },
        "id": "df2_c3I-DmlE",
        "outputId": "d89fd0ec-bfc6-4b9a-d811-07e30b82827a"
      },
      "outputs": [
        {
          "output_type": "stream",
          "name": "stdout",
          "text": [
            "  Fatura No Stok Kodu                             Ürün Adı  Adet  \\\n",
            "0    536365    85123A   WHITE HANGING HEART T-LIGHT HOLDER     6   \n",
            "1    536365     71053                  WHITE METAL LANTERN     6   \n",
            "2    536365    84406B       CREAM CUPID HEARTS COAT HANGER     8   \n",
            "3    536365    84029G  KNITTED UNION FLAG HOT WATER BOTTLE     6   \n",
            "4    536365    84029E       RED WOOLLY HOTTIE WHITE HEART.     6   \n",
            "\n",
            "         Fatura Tarihi  Birim Fiyat  Müşteri ID            Ülke  \n",
            "0  2010-12-01 08:26:00         2.55     17850.0  United Kingdom  \n",
            "1  2010-12-01 08:26:00         3.39     17850.0  United Kingdom  \n",
            "2  2010-12-01 08:26:00         2.75     17850.0  United Kingdom  \n",
            "3  2010-12-01 08:26:00         3.39     17850.0  United Kingdom  \n",
            "4  2010-12-01 08:26:00         3.39     17850.0  United Kingdom  \n"
          ]
        }
      ],
      "source": [
        "veri.rename(columns={\"Invoice\":\"Fatura No\",\"StockCode\":\"Stok Kodu\",\"Description\":\"Ürün Adı\",\"Quantity\":\"Adet\",\"InvoiceDate\":\"Fatura Tarihi\",\"Price\":\"Birim Fiyat\",\"Customer ID\":\"Müşteri ID\",\"Country\":\"Ülke\"},inplace=True)\n",
        "print(veri.head())"
      ]
    },
    {
      "cell_type": "code",
      "execution_count": 8,
      "metadata": {
        "colab": {
          "base_uri": "https://localhost:8080/"
        },
        "id": "pWz_CXtcFxMz",
        "outputId": "d8bd6dab-ba60-4ae6-afd6-13461224d792"
      },
      "outputs": [
        {
          "output_type": "stream",
          "name": "stdout",
          "text": [
            "  Fatura No Stok Kodu                             Ürün Adı  Adet  \\\n",
            "0    536365    85123A   WHITE HANGING HEART T-LIGHT HOLDER     6   \n",
            "1    536365     71053                  WHITE METAL LANTERN     6   \n",
            "2    536365    84406B       CREAM CUPID HEARTS COAT HANGER     8   \n",
            "3    536365    84029G  KNITTED UNION FLAG HOT WATER BOTTLE     6   \n",
            "4    536365    84029E       RED WOOLLY HOTTIE WHITE HEART.     6   \n",
            "\n",
            "         Fatura Tarihi  Birim Fiyat  Müşteri ID            Ülke  Toplam Tutar  \n",
            "0  2010-12-01 08:26:00         2.55     17850.0  United Kingdom         15.30  \n",
            "1  2010-12-01 08:26:00         3.39     17850.0  United Kingdom         20.34  \n",
            "2  2010-12-01 08:26:00         2.75     17850.0  United Kingdom         22.00  \n",
            "3  2010-12-01 08:26:00         3.39     17850.0  United Kingdom         20.34  \n",
            "4  2010-12-01 08:26:00         3.39     17850.0  United Kingdom         20.34  \n"
          ]
        }
      ],
      "source": [
        "veri[\"Toplam Tutar\"]=veri[\"Birim Fiyat\"]*veri[\"Adet\"]\n",
        "print(veri.head())"
      ]
    },
    {
      "cell_type": "code",
      "execution_count": 9,
      "metadata": {
        "colab": {
          "base_uri": "https://localhost:8080/"
        },
        "id": "xWYCOJFeTzQC",
        "outputId": "05eecce9-d8ae-468a-b2c6-211de7e12635"
      },
      "outputs": [
        {
          "output_type": "stream",
          "name": "stdout",
          "text": [
            "<class 'pandas.core.frame.DataFrame'>\n",
            "RangeIndex: 541910 entries, 0 to 541909\n",
            "Data columns (total 9 columns):\n",
            " #   Column         Non-Null Count   Dtype         \n",
            "---  ------         --------------   -----         \n",
            " 0   Fatura No      541910 non-null  object        \n",
            " 1   Stok Kodu      541910 non-null  object        \n",
            " 2   Ürün Adı       540456 non-null  object        \n",
            " 3   Adet           541910 non-null  int64         \n",
            " 4   Fatura Tarihi  541910 non-null  datetime64[ns]\n",
            " 5   Birim Fiyat    541910 non-null  float64       \n",
            " 6   Müşteri ID     406830 non-null  float64       \n",
            " 7   Ülke           541910 non-null  object        \n",
            " 8   Toplam Tutar   541910 non-null  float64       \n",
            "dtypes: datetime64[ns](1), float64(3), int64(1), object(4)\n",
            "memory usage: 37.2+ MB\n",
            "None\n"
          ]
        }
      ],
      "source": [
        "veri[\"Fatura Tarihi\"]=pd.to_datetime((veri[\"Fatura Tarihi\"]))\n",
        "print(veri.info())"
      ]
    },
    {
      "cell_type": "code",
      "execution_count": 10,
      "metadata": {
        "colab": {
          "base_uri": "https://localhost:8080/"
        },
        "id": "DCI9f01iUhsR",
        "outputId": "2b49dcd9-8cdf-420a-a658-32987131a43a"
      },
      "outputs": [
        {
          "output_type": "stream",
          "name": "stdout",
          "text": [
            "  Fatura No Stok Kodu                             Ürün Adı  Adet  \\\n",
            "0    536365    85123A   WHITE HANGING HEART T-LIGHT HOLDER     6   \n",
            "1    536365     71053                  WHITE METAL LANTERN     6   \n",
            "2    536365    84406B       CREAM CUPID HEARTS COAT HANGER     8   \n",
            "3    536365    84029G  KNITTED UNION FLAG HOT WATER BOTTLE     6   \n",
            "4    536365    84029E       RED WOOLLY HOTTIE WHITE HEART.     6   \n",
            "\n",
            "        Fatura Tarihi  Birim Fiyat            Ülke  Toplam Tutar  \n",
            "0 2010-12-01 08:26:00         2.55  United Kingdom         15.30  \n",
            "1 2010-12-01 08:26:00         3.39  United Kingdom         20.34  \n",
            "2 2010-12-01 08:26:00         2.75  United Kingdom         22.00  \n",
            "3 2010-12-01 08:26:00         3.39  United Kingdom         20.34  \n",
            "4 2010-12-01 08:26:00         3.39  United Kingdom         20.34  \n"
          ]
        }
      ],
      "source": [
        "veri.drop(\"Müşteri ID\",axis=1,inplace=True)\n",
        "print(veri.head())"
      ]
    },
    {
      "cell_type": "code",
      "execution_count": 11,
      "metadata": {
        "id": "3IVsYSjQUv5u"
      },
      "outputs": [],
      "source": [
        "veri.dropna(axis=0,inplace=True)\n",
        "veri.reset_index(drop=True,inplace=True)"
      ]
    },
    {
      "cell_type": "code",
      "execution_count": 12,
      "metadata": {
        "colab": {
          "base_uri": "https://localhost:8080/"
        },
        "id": "uOqtC8lxW52q",
        "outputId": "3645c919-0e90-4430-b3d9-e90ed5b7d488"
      },
      "outputs": [
        {
          "output_type": "stream",
          "name": "stdout",
          "text": [
            "       Fatura No Stok Kodu                          Ürün Adı  Adet  \\\n",
            "141      C536379         D                          Discount    -1   \n",
            "154      C536383    35004C   SET OF 3 COLOURED  FLYING DUCKS    -1   \n",
            "235      C536391     22556    PLASTERS IN TIN CIRCUS PARADE    -12   \n",
            "236      C536391     21984  PACK OF 12 PINK PAISLEY TISSUES    -24   \n",
            "237      C536391     21983  PACK OF 12 BLUE PAISLEY TISSUES    -24   \n",
            "...          ...       ...                               ...   ...   \n",
            "538995   C581490     23144   ZINC T-LIGHT HOLDER STARS SMALL   -11   \n",
            "540087   C581499         M                            Manual    -1   \n",
            "540261   C581568     21258        VICTORIAN SEWING BOX LARGE    -5   \n",
            "540262   C581569     84978  HANGING HEART JAR T-LIGHT HOLDER    -1   \n",
            "540263   C581569     20979     36 PENCILS TUBE RED RETROSPOT    -5   \n",
            "\n",
            "             Fatura Tarihi  Birim Fiyat            Ülke  Toplam Tutar  \n",
            "141    2010-12-01 09:41:00        27.50  United Kingdom        -27.50  \n",
            "154    2010-12-01 09:49:00         4.65  United Kingdom         -4.65  \n",
            "235    2010-12-01 10:24:00         1.65  United Kingdom        -19.80  \n",
            "236    2010-12-01 10:24:00         0.29  United Kingdom         -6.96  \n",
            "237    2010-12-01 10:24:00         0.29  United Kingdom         -6.96  \n",
            "...                    ...          ...             ...           ...  \n",
            "538995 2011-12-09 09:57:00         0.83  United Kingdom         -9.13  \n",
            "540087 2011-12-09 10:28:00       224.69  United Kingdom       -224.69  \n",
            "540261 2011-12-09 11:57:00        10.95  United Kingdom        -54.75  \n",
            "540262 2011-12-09 11:58:00         1.25  United Kingdom         -1.25  \n",
            "540263 2011-12-09 11:58:00         1.25  United Kingdom         -6.25  \n",
            "\n",
            "[9288 rows x 8 columns]\n"
          ]
        }
      ],
      "source": [
        "iptal=veri[veri[\"Fatura No\"].str.contains(\"C\",na=False)]\n",
        "print(iptal)"
      ]
    },
    {
      "cell_type": "code",
      "execution_count": 13,
      "metadata": {
        "colab": {
          "base_uri": "https://localhost:8080/"
        },
        "id": "m0mrkUeAbizK",
        "outputId": "6f675255-9da6-403e-91f4-1ef783528c3a"
      },
      "outputs": [
        {
          "output_type": "stream",
          "name": "stdout",
          "text": [
            "9288\n",
            "Empty DataFrame\n",
            "Columns: [Fatura No, Stok Kodu, Ürün Adı, Adet, Fatura Tarihi, Birim Fiyat, Ülke, Toplam Tutar]\n",
            "Index: []\n"
          ]
        }
      ],
      "source": [
        "iptalindex=[]\n",
        "\n",
        "for i in iptal.index:\n",
        "  iptalindex.append(i)\n",
        "\n",
        "print(len(iptalindex))\n",
        "\n",
        "veri.drop(veri.index[iptalindex],inplace=True)\n",
        "veri.reset_index(drop=True,inplace=True)\n",
        "iptal2=veri[veri[\"Fatura No\"].str.contains(\"C\",na=False)]\n",
        "\n",
        "print(iptal2)"
      ]
    },
    {
      "cell_type": "code",
      "source": [
        "hata=veri[(veri[\"Fatura No\"].str.len()!=6) | (~veri[\"Fatura No\"].str.isdigit())]\n",
        "print(hata)"
      ],
      "metadata": {
        "colab": {
          "base_uri": "https://localhost:8080/"
        },
        "id": "6l6Nd4g9-7pg",
        "outputId": "1fcfedbc-5265-4307-a42a-d0c13ef564b7"
      },
      "execution_count": 14,
      "outputs": [
        {
          "output_type": "stream",
          "name": "stdout",
          "text": [
            "       Fatura No Stok Kodu         Ürün Adı  Adet       Fatura Tarihi  \\\n",
            "293414   A563185         B  Adjust bad debt     1 2011-08-12 14:50:00   \n",
            "293415   A563186         B  Adjust bad debt     1 2011-08-12 14:51:00   \n",
            "293416   A563187         B  Adjust bad debt     1 2011-08-12 14:52:00   \n",
            "\n",
            "        Birim Fiyat            Ülke  Toplam Tutar  \n",
            "293414     11062.06  United Kingdom      11062.06  \n",
            "293415    -11062.06  United Kingdom     -11062.06  \n",
            "293416    -11062.06  United Kingdom     -11062.06  \n"
          ]
        }
      ]
    },
    {
      "cell_type": "code",
      "source": [
        "hataindeks=[]\n",
        "\n",
        "for i in hata.index:\n",
        "  hataindeks.append(i)\n",
        "\n",
        "print(hataindeks)"
      ],
      "metadata": {
        "colab": {
          "base_uri": "https://localhost:8080/"
        },
        "id": "lFjkoRh8dwoC",
        "outputId": "aa28d60a-f75f-48cb-82db-8afd0989b60e"
      },
      "execution_count": 15,
      "outputs": [
        {
          "output_type": "stream",
          "name": "stdout",
          "text": [
            "[293414, 293415, 293416]\n"
          ]
        }
      ]
    },
    {
      "cell_type": "code",
      "source": [
        "veri.drop(veri.index[hataindeks],inplace=True)\n",
        "veri.reset_index(drop=True,inplace=True)\n",
        "\n",
        "hata2=veri[(veri[\"Fatura No\"].str.len()!=6) | (~veri[\"Fatura No\"].str.isdigit())]\n",
        "print(hata2)"
      ],
      "metadata": {
        "colab": {
          "base_uri": "https://localhost:8080/"
        },
        "id": "Rqno0TN0f73S",
        "outputId": "7a08a913-219a-4c91-f7ee-af87841424d1"
      },
      "execution_count": 16,
      "outputs": [
        {
          "output_type": "stream",
          "name": "stdout",
          "text": [
            "Empty DataFrame\n",
            "Columns: [Fatura No, Stok Kodu, Ürün Adı, Adet, Fatura Tarihi, Birim Fiyat, Ülke, Toplam Tutar]\n",
            "Index: []\n"
          ]
        }
      ]
    },
    {
      "cell_type": "code",
      "source": [
        "hata3=veri[(veri[\"Stok Kodu\"].str.len()!=5) | (~veri[\"Stok Kodu\"].str.isdigit())]\n",
        "print(hata3)"
      ],
      "metadata": {
        "colab": {
          "base_uri": "https://localhost:8080/"
        },
        "id": "iyZxco7nhI8M",
        "outputId": "3241725d-cc38-423c-e902-da036c5ffef6"
      },
      "execution_count": 17,
      "outputs": [
        {
          "output_type": "stream",
          "name": "stdout",
          "text": [
            "       Fatura No Stok Kodu                             Ürün Adı  Adet  \\\n",
            "0         536365    85123A   WHITE HANGING HEART T-LIGHT HOLDER     6   \n",
            "2         536365    84406B       CREAM CUPID HEARTS COAT HANGER     8   \n",
            "3         536365    84029G  KNITTED UNION FLAG HOT WATER BOTTLE     6   \n",
            "4         536365    84029E       RED WOOLLY HOTTIE WHITE HEART.     6   \n",
            "45        536370      POST                              POSTAGE     3   \n",
            "...          ...       ...                                  ...   ...   \n",
            "531064    581579    85099C       JUMBO  BAG BAROQUE BLACK WHITE    10   \n",
            "531096    581580    84993A            75 GREEN PETIT FOUR CASES     2   \n",
            "531102    581580    85049A        TRADITIONAL CHRISTMAS RIBBONS     1   \n",
            "531111    581580    85049E            SCANDINAVIAN REDS RIBBONS     2   \n",
            "531164    581587      POST                              POSTAGE     1   \n",
            "\n",
            "             Fatura Tarihi  Birim Fiyat            Ülke  Toplam Tutar  \n",
            "0      2010-12-01 08:26:00         2.55  United Kingdom         15.30  \n",
            "2      2010-12-01 08:26:00         2.75  United Kingdom         22.00  \n",
            "3      2010-12-01 08:26:00         3.39  United Kingdom         20.34  \n",
            "4      2010-12-01 08:26:00         3.39  United Kingdom         20.34  \n",
            "45     2010-12-01 08:45:00        18.00          France         54.00  \n",
            "...                    ...          ...             ...           ...  \n",
            "531064 2011-12-09 12:19:00         1.79  United Kingdom         17.90  \n",
            "531096 2011-12-09 12:20:00         0.42  United Kingdom          0.84  \n",
            "531102 2011-12-09 12:20:00         1.25  United Kingdom          1.25  \n",
            "531111 2011-12-09 12:20:00         1.25  United Kingdom          2.50  \n",
            "531164 2011-12-09 12:50:00        18.00          France         18.00  \n",
            "\n",
            "[53224 rows x 8 columns]\n"
          ]
        }
      ]
    },
    {
      "cell_type": "code",
      "source": [
        "print(len(hamveri))\n",
        "print(len(veri))\n",
        "print(len(hamveri)-len(veri))"
      ],
      "metadata": {
        "colab": {
          "base_uri": "https://localhost:8080/"
        },
        "id": "TbQpsGnulryM",
        "outputId": "54c233bc-6706-41f8-bca1-794b9d37f8db"
      },
      "execution_count": 18,
      "outputs": [
        {
          "output_type": "stream",
          "name": "stdout",
          "text": [
            "541910\n",
            "531165\n",
            "10745\n"
          ]
        }
      ]
    },
    {
      "cell_type": "code",
      "source": [
        "hata4=veri[veri[\"Adet\"]<=0]\n",
        "print(hata4)"
      ],
      "metadata": {
        "colab": {
          "base_uri": "https://localhost:8080/"
        },
        "id": "MPuzztSRnLJL",
        "outputId": "8ffeb98e-580a-42c2-f84c-eb5a4f72f385"
      },
      "execution_count": 19,
      "outputs": [
        {
          "output_type": "stream",
          "name": "stdout",
          "text": [
            "       Fatura No Stok Kodu Ürün Adı  Adet       Fatura Tarihi  Birim Fiyat  \\\n",
            "7187      537032     21275        ?   -30 2010-12-03 16:50:00          0.0   \n",
            "13023     537425    84968F    check   -20 2010-12-06 15:35:00          0.0   \n",
            "13024     537426    84968E    check   -35 2010-12-06 15:36:00          0.0   \n",
            "13068     537432    35833G  damages   -43 2010-12-06 16:10:00          0.0   \n",
            "20981     538072     22423   faulty   -13 2010-12-09 14:10:00          0.0   \n",
            "...          ...       ...      ...   ...                 ...          ...   \n",
            "524664    581210     23395    check   -26 2011-12-07 18:36:00          0.0   \n",
            "524666    581212     22578     lost -1050 2011-12-07 18:38:00          0.0   \n",
            "524667    581213     22576    check   -30 2011-12-07 18:38:00          0.0   \n",
            "526241    581226     23090  missing  -338 2011-12-08 09:56:00          0.0   \n",
            "528206    581422     23169  smashed  -235 2011-12-08 15:24:00          0.0   \n",
            "\n",
            "                  Ülke  Toplam Tutar  \n",
            "7187    United Kingdom          -0.0  \n",
            "13023   United Kingdom          -0.0  \n",
            "13024   United Kingdom          -0.0  \n",
            "13068   United Kingdom          -0.0  \n",
            "20981   United Kingdom          -0.0  \n",
            "...                ...           ...  \n",
            "524664  United Kingdom          -0.0  \n",
            "524666  United Kingdom          -0.0  \n",
            "524667  United Kingdom          -0.0  \n",
            "526241  United Kingdom          -0.0  \n",
            "528206  United Kingdom          -0.0  \n",
            "\n",
            "[474 rows x 8 columns]\n"
          ]
        }
      ]
    },
    {
      "cell_type": "code",
      "source": [
        "hataindeks3=[]\n",
        "\n",
        "for i in hata4.index:\n",
        "  hataindeks3.append(i)\n",
        "\n",
        "veri.drop(veri.index[hataindeks3],inplace=True)\n",
        "veri.reset_index(drop=True,inplace=True)\n",
        "\n",
        "hata5=veri[veri[\"Adet\"]<=0]\n",
        "print(hata5)"
      ],
      "metadata": {
        "colab": {
          "base_uri": "https://localhost:8080/"
        },
        "id": "_sCxXP-4nWmM",
        "outputId": "db14b48b-05c6-41c6-c19b-c1918766457b"
      },
      "execution_count": 21,
      "outputs": [
        {
          "output_type": "stream",
          "name": "stdout",
          "text": [
            "Empty DataFrame\n",
            "Columns: [Fatura No, Stok Kodu, Ürün Adı, Adet, Fatura Tarihi, Birim Fiyat, Ülke, Toplam Tutar]\n",
            "Index: []\n"
          ]
        }
      ]
    },
    {
      "cell_type": "code",
      "source": [
        "hata5=veri[veri[\"Birim Fiyat\"]<=0]\n",
        "hataindeks4=[]\n",
        "\n",
        "for i in hata5.index:\n",
        "  hataindeks4.append(i)\n",
        "\n",
        "veri.drop(veri.index[hataindeks4],inplace=True)\n",
        "veri.reset_index(drop=True,inplace=True)\n",
        "\n",
        "hata6=veri[veri[\"Birim Fiyat\"]<=0]\n",
        "print(hata6)"
      ],
      "metadata": {
        "colab": {
          "base_uri": "https://localhost:8080/"
        },
        "id": "l8JUjsDIqwBX",
        "outputId": "6b41d6e9-fd75-4e5b-fa1a-1033dda3e02c"
      },
      "execution_count": 22,
      "outputs": [
        {
          "output_type": "stream",
          "name": "stdout",
          "text": [
            "Empty DataFrame\n",
            "Columns: [Fatura No, Stok Kodu, Ürün Adı, Adet, Fatura Tarihi, Birim Fiyat, Ülke, Toplam Tutar]\n",
            "Index: []\n"
          ]
        }
      ]
    },
    {
      "cell_type": "code",
      "source": [
        "print(veri[\"Ülke\"].unique())"
      ],
      "metadata": {
        "colab": {
          "base_uri": "https://localhost:8080/"
        },
        "id": "uPgVeG_Dsz4S",
        "outputId": "7f08dc92-adb6-42e9-dfcb-746e7bd12a17"
      },
      "execution_count": 23,
      "outputs": [
        {
          "output_type": "stream",
          "name": "stdout",
          "text": [
            "['United Kingdom' 'France' 'Australia' 'Netherlands' 'Germany' 'Norway'\n",
            " 'EIRE' 'Switzerland' 'Spain' 'Poland' 'Portugal' 'Italy' 'Belgium'\n",
            " 'Lithuania' 'Japan' 'Iceland' 'Channel Islands' 'Denmark' 'Cyprus'\n",
            " 'Sweden' 'Finland' 'Austria' 'Bahrain' 'Israel' 'Greece' 'Hong Kong'\n",
            " 'Singapore' 'Lebanon' 'United Arab Emirates' 'Saudi Arabia'\n",
            " 'Czech Republic' 'Canada' 'Unspecified' 'Brazil' 'USA'\n",
            " 'European Community' 'Malta' 'RSA']\n"
          ]
        }
      ]
    },
    {
      "cell_type": "code",
      "source": [],
      "metadata": {
        "id": "4_C-TmpYs9I5"
      },
      "execution_count": null,
      "outputs": []
    }
  ],
  "metadata": {
    "colab": {
      "provenance": []
    },
    "kernelspec": {
      "display_name": "Python 3",
      "name": "python3"
    }
  },
  "nbformat": 4,
  "nbformat_minor": 0
}